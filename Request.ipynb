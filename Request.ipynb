{
 "cells": [
  {
   "cell_type": "code",
   "execution_count": 67,
   "metadata": {},
   "outputs": [
    {
     "name": "stdout",
     "output_type": "stream",
     "text": [
      "from 8:30am\n",
      "to 7pm\n",
      "{'lid': 10336, 'name': 'Lee Wee Nam Library', 'category': 'library', 'day': 'Wednesday', 'desc': '', 'url': '', 'contact': '', 'lat': '', 'long': '', 'color': '#000000', 'times': {'currently_open': True, 'status': 'open', 'hours': [{'from': '8:30am', 'to': '7pm'}]}, 'rendered': '8:30am - 7pm', 'fn': ''}\n"
     ]
    }
   ],
   "source": [
    "import requests\n",
    "res = requests.get('https://api3-au.libcal.com/api_hours_today.php?iid=4309&lid=0&format=json&systemTime=0')\n",
    "data = res.json()\n",
    "location = \"Lee Wee Nam Library\"\n",
    "\n",
    "for library in data['locations']:\n",
    "    if location in library.values():\n",
    "        print(f\"from {library['times']['hours'][0]['from']}\")\n",
    "        print(f\"to {library['times']['hours'][0]['to']}\")\n",
    "\n",
    "print(data['locations'][1])"
   ]
  },
  {
   "cell_type": "code",
   "execution_count": null,
   "metadata": {},
   "outputs": [],
   "source": []
  }
 ],
 "metadata": {
  "kernelspec": {
   "display_name": "Python 3",
   "language": "python",
   "name": "python3"
  },
  "language_info": {
   "codemirror_mode": {
    "name": "ipython",
    "version": 3
   },
   "file_extension": ".py",
   "mimetype": "text/x-python",
   "name": "python",
   "nbconvert_exporter": "python",
   "pygments_lexer": "ipython3",
   "version": "3.7.3"
  }
 },
 "nbformat": 4,
 "nbformat_minor": 2
}
